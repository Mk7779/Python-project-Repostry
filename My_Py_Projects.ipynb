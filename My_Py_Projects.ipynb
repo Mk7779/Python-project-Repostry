{
  "cells": [
    {
      "cell_type": "markdown",
      "metadata": {
        "id": "view-in-github",
        "colab_type": "text"
      },
      "source": [
        "<a href=\"https://colab.research.google.com/github/Mk7779/Python-project-Repostry/blob/main/My_Py_Projects.ipynb\" target=\"_parent\"><img src=\"https://colab.research.google.com/assets/colab-badge.svg\" alt=\"Open In Colab\"/></a>"
      ]
    },
    {
      "cell_type": "code",
      "execution_count": null,
      "metadata": {
        "colab": {
          "base_uri": "https://localhost:8080/"
        },
        "id": "OSVlgnGNuzVJ",
        "outputId": "6d73cfc7-dec9-4132-cd97-4854a76e6ca1"
      },
      "outputs": [
        {
          "name": "stdout",
          "output_type": "stream",
          "text": [
            "File Not Found\n"
          ]
        }
      ],
      "source": [
        "##File Handeling\n",
        "#TASK 1 :Read And Print File Content\n",
        "try:\n",
        "  file=open(\"file.txt\",\"r\")\n",
        "  content=file.read()\n",
        "  print(content)\n",
        "  file.close()\n",
        "except :\n",
        "  print(\"File Not Found\")\n"
      ]
    },
    {
      "cell_type": "code",
      "execution_count": null,
      "metadata": {
        "id": "Dq1ImM-Gw7Po"
      },
      "outputs": [],
      "source": [
        "#Task 2: Write a List to a File\n",
        "list=[2,4,6,8,10]\n",
        "for i in list:\n",
        "  file=open(\"file.txt\",\"a\")\n",
        "  content=file.write(str(i)+\"\\n\")\n",
        "  file.close()\n",
        "\n"
      ]
    },
    {
      "cell_type": "code",
      "execution_count": null,
      "metadata": {
        "id": "nbbAsDZmCZfZ"
      },
      "outputs": [],
      "source": [
        "#Task 3: Append Data to an Existing File\n",
        "with open(\"file.txt\",\"a\") as file:\n",
        "  file.write(\"12\\n\")"
      ]
    },
    {
      "cell_type": "code",
      "execution_count": null,
      "metadata": {
        "id": "UUEKHWKWx1sH"
      },
      "outputs": [],
      "source": [
        "#Task 4: Count the Number of Lines, Words, and Characters in a File\n",
        "file=open(\"file1.txt\",\"w\")\n",
        "content=file.write(\"Hi\\nHello\")\n",
        "\n",
        "file.close()"
      ]
    },
    {
      "cell_type": "code",
      "execution_count": null,
      "metadata": {
        "id": "cQ6aYex8zXp3"
      },
      "outputs": [],
      "source": [
        "#Task 4\n",
        "file=open(\"file1.txt\",\"a\")\n",
        "content=file.write(\"\\nHow\\nare\\nyou\")\n",
        "\n",
        "file.close()"
      ]
    },
    {
      "cell_type": "code",
      "execution_count": null,
      "metadata": {
        "colab": {
          "background_save": true,
          "base_uri": "https://localhost:8080/"
        },
        "id": "pzjwTe8e7BeF",
        "outputId": "95f5d04f-c31a-4582-d3fb-8686d8e74097"
      },
      "outputs": [
        {
          "name": "stdout",
          "output_type": "stream",
          "text": [
            "Lines: 5\n",
            "Words: 5\n",
            "Characters: 20\n"
          ]
        }
      ],
      "source": [
        "#Task 4\n",
        "with open('file1.txt', 'r', encoding='utf-8') as file:\n",
        "                content = file.read()\n",
        "\n",
        "                # Count characters\n",
        "                num_characters = len(content)\n",
        "\n",
        "                # Count lines\n",
        "                lines = content.splitlines()\n",
        "                num_lines = len(lines)\n",
        "\n",
        "                # Count words\n",
        "                words = content.split()\n",
        "                num_words = len(words)\n",
        "\n",
        "                # Display results\n",
        "                print(f\"Lines: {num_lines}\")\n",
        "                print(f\"Words: {num_words}\")\n",
        "                print(f\"Characters: {num_characters}\")\n"
      ]
    },
    {
      "cell_type": "code",
      "source": [
        "#Task 5: Copy the Content of One File to Another\n",
        "with open(\"file1.txt\",\"r\") as file1:\n",
        "  with open(\"file2.txt\",\"w\") as file2:\n",
        "    for line in file1:\n",
        "      file2.write(line)"
      ],
      "metadata": {
        "colab": {
          "base_uri": "https://localhost:8080/"
        },
        "collapsed": true,
        "id": "KD-rIWz0GNYc",
        "outputId": "4df39064-dcb6-4f1f-d1a1-45d7778bea15"
      },
      "execution_count": null,
      "outputs": [
        {
          "output_type": "stream",
          "name": "stdout",
          "text": [
            "Hi  a\n",
            "\n",
            "Hello\n",
            "\n",
            "How\n",
            "\n",
            "are\n",
            "\n",
            "you\n"
          ]
        }
      ]
    }
  ],
  "metadata": {
    "colab": {
      "provenance": [],
      "authorship_tag": "ABX9TyPg+19C/Uvtj4SJsXj9wQU0",
      "include_colab_link": true
    },
    "kernelspec": {
      "display_name": "Python 3",
      "name": "python3"
    },
    "language_info": {
      "name": "python"
    }
  },
  "nbformat": 4,
  "nbformat_minor": 0
}